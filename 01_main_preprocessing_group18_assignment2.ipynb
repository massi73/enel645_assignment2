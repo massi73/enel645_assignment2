{
 "cells": [
  {
   "cell_type": "markdown",
   "metadata": {},
   "source": [
    "## Process data"
   ]
  },
  {
   "cell_type": "code",
   "execution_count": 1,
   "metadata": {},
   "outputs": [],
   "source": [
    "import os\n",
    "from PIL import Image\n",
    "import numpy as np"
   ]
  },
  {
   "cell_type": "code",
   "execution_count": 2,
   "metadata": {},
   "outputs": [],
   "source": [
    " \n",
    "# Function to process and save images\n",
    "def process_and_save_images(root_folder, output_folder, target_size=(224, 224)):\n",
    "    \"\"\"\n",
    "    Process images from root_folder, resize them, convert to grayscale, normalize, and save in output_folder.\n",
    "    \n",
    "    Parameters:\n",
    "        root_folder (str): The path to the root folder containing train, test, validation folders.\n",
    "        output_folder (str): The path to save processed images.\n",
    "        target_size (tuple): The target size to resize images.\n",
    "    \"\"\"\n",
    "    # Loop over train, test, validation\n",
    "    for subdir in ['train', 'test', 'validation']:\n",
    "        subdir_path = os.path.join(root_folder, subdir)\n",
    "        output_subdir_path = os.path.join(output_folder, subdir)\n",
    "\n",
    "        # Check if subdir_path is a valid directory\n",
    "        if not os.path.isdir(subdir_path):\n",
    "            continue\n",
    "\n",
    "        # Loop over label folders (Black, Blue, Green, TTR)\n",
    "        for label in os.listdir(subdir_path):\n",
    "            label_path = os.path.join(subdir_path, label)\n",
    "\n",
    "            # Skip if it's not a directory (e.g., ignore .DS_Store and other non-folder files)\n",
    "            if not os.path.isdir(label_path):\n",
    "                continue\n",
    "\n",
    "            output_label_path = os.path.join(output_subdir_path, label)\n",
    "\n",
    "            # Create output directory if it doesn't exist\n",
    "            os.makedirs(output_label_path, exist_ok=True)\n",
    "\n",
    "            # Loop over images in the label folder\n",
    "            for image_file in os.listdir(label_path):\n",
    "                image_path = os.path.join(label_path, image_file)\n",
    "\n",
    "                # Process image only if it's a file (skip directories or system files)\n",
    "                if os.path.isfile(image_path):\n",
    "                    try:\n",
    "                        with Image.open(image_path) as img:\n",
    "                            # Resize image\n",
    "                            img_resized = img.resize(target_size)\n",
    "\n",
    "                            # Convert to grayscale\n",
    "                            img_gray = img_resized.convert('L')\n",
    "\n",
    "                            # Standardize: Convert to array, normalize (0-1 scale), and convert back to image\n",
    "                            img_array = np.array(img_gray) / 255.0\n",
    "                            img_standardized = Image.fromarray(np.uint8(img_array * 255))\n",
    "\n",
    "                            # Save processed image\n",
    "                            output_image_path = os.path.join(output_label_path, image_file)\n",
    "                            img_standardized.save(output_image_path)\n",
    "                    except Exception as e:\n",
    "                        print(f\"Error processing {image_path}: {e}\")\n",
    "\n",
    "# Specify the root folder and output folder\n",
    "root_folder = 'C:/marzi_data/data'  # Path to your data folder\n",
    "output_folder = 'C:/marzi_data/processed_data'  # Path to save processed images\n",
    "\n",
    "# Run the processing function\n",
    "process_and_save_images(root_folder, output_folder)\n"
   ]
  }
 ],
 "metadata": {
  "kernelspec": {
   "display_name": "base",
   "language": "python",
   "name": "python3"
  },
  "language_info": {
   "codemirror_mode": {
    "name": "ipython",
    "version": 3
   },
   "file_extension": ".py",
   "mimetype": "text/x-python",
   "name": "python",
   "nbconvert_exporter": "python",
   "pygments_lexer": "ipython3",
   "version": "3.9.12"
  }
 },
 "nbformat": 4,
 "nbformat_minor": 2
}
